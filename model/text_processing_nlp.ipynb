{
 "cells": [
  {
   "cell_type": "code",
   "execution_count": 1,
   "id": "880a76a7-8b81-4618-8a0e-99444c65ba08",
   "metadata": {},
   "outputs": [],
   "source": [
    "import spacy\n",
    "import pandas as pd\n",
    "from collections import defaultdict"
   ]
  },
  {
   "cell_type": "code",
   "execution_count": 2,
   "id": "0eb387cb-9696-4dae-bfa1-a7b07d84c461",
   "metadata": {},
   "outputs": [],
   "source": [
    "# Load spaCy model\n",
    "nlp = spacy.load(\"en_core_web_sm\")"
   ]
  },
  {
   "cell_type": "code",
   "execution_count": 3,
   "id": "aa13d106-0b3e-428b-a845-2388268d9450",
   "metadata": {},
   "outputs": [],
   "source": [
    "# Sample financial categories (expand as needed)\n",
    "FINANCIAL_CATEGORIES = {\n",
    "    \"shopping\": [\"amazon\", \"flipkart\", \"myntra\"],\n",
    "    \"food\": [\"zomato\", \"swiggy\", \"dominos\", \"restaurant\"],\n",
    "    \"travel\": [\"uber\", \"ola\", \"irctc\"],\n",
    "    \"utilities\": [\"electricity\", \"water\", \"broadband\"]\n",
    "}"
   ]
  },
  {
   "cell_type": "code",
   "execution_count": 4,
   "id": "8b4fe710-36d5-491c-b611-f3a8d8f8d728",
   "metadata": {},
   "outputs": [],
   "source": [
    "def categorize_with_nlp(text):\n",
    "    doc = nlp(text.lower())\n",
    "    \n",
    "    # Match against known entities\n",
    "    for token in doc:\n",
    "        for category, keywords in FINANCIAL_CATEGORIES.items():\n",
    "            if token.text in keywords:\n",
    "                return category\n",
    "    \n",
    "    # Fallback: Use noun chunks for unknown vendors\n",
    "    for chunk in doc.noun_chunks:\n",
    "        if \"payment\" in chunk.text or \"bill\" in chunk.text:\n",
    "            return \"utilities\"\n",
    "    \n",
    "    return \"uncategorized\"\n"
   ]
  },
  {
   "cell_type": "code",
   "execution_count": 5,
   "id": "a18fbc34-0c50-44f8-8a37-b1b884b34cfc",
   "metadata": {},
   "outputs": [
    {
     "name": "stdout",
     "output_type": "stream",
     "text": [
      "shopping\n"
     ]
    }
   ],
   "source": [
    "# Example usage\n",
    "text = \"Payment to Amazon Pay ₹1,499 for order #12345\"\n",
    "print(categorize_with_nlp(text))  # Output: \"shopping\""
   ]
  },
  {
   "cell_type": "code",
   "execution_count": 6,
   "id": "f49c1627-efca-4ea7-b695-db0fdfe313dd",
   "metadata": {},
   "outputs": [
    {
     "name": "stdout",
     "output_type": "stream",
     "text": [
      "{'vendor': 'Uber', 'amount': '425.50', 'date': '15th May 2024'}\n"
     ]
    }
   ],
   "source": [
    "def extract_financial_entities(text):\n",
    "    doc = nlp(text)\n",
    "    \n",
    "    entities = {\n",
    "        \"vendor\": None,\n",
    "        \"amount\": None,\n",
    "        \"date\": None\n",
    "    }\n",
    "    \n",
    "    # Rule 1: Detect amounts (improved from regex)\n",
    "    for ent in doc.ents:\n",
    "        if ent.label_ == \"MONEY\":\n",
    "            entities[\"amount\"] = ent.text\n",
    "        elif ent.label_ == \"DATE\":\n",
    "            entities[\"date\"] = ent.text\n",
    "    \n",
    "    # Rule 2: Detect vendors (first proper noun)\n",
    "    for token in doc:\n",
    "        if token.pos_ == \"PROPN\" and not entities[\"vendor\"]:\n",
    "            entities[\"vendor\"] = token.text\n",
    "    \n",
    "    return entities\n",
    "\n",
    "# Test\n",
    "text = \"Invoice from Uber ₹425.50 on 15th May 2024\"\n",
    "print(extract_financial_entities(text))\n",
    "# Output: {'vendor': 'Uber', 'amount': '₹425.50', 'date': '15th May 2024'}"
   ]
  },
  {
   "cell_type": "code",
   "execution_count": 7,
   "id": "08940618-f883-4191-a5e7-c9de9f7a28f2",
   "metadata": {},
   "outputs": [],
   "source": [
    "def process_ocr_results(df):\n",
    "    results = []\n",
    "    for _, row in df.iterrows():\n",
    "        record = {\n",
    "            \"filename\": row[\"filename\"],\n",
    "            \"document_type\": row[\"document_type\"],\n",
    "            \"raw_text\": row[\"raw_text\"]\n",
    "        }\n",
    "        \n",
    "        # NLP Extraction\n",
    "        entities = extract_financial_entities(row[\"raw_text\"])\n",
    "        record.update(entities)\n",
    "        \n",
    "        # Categorization\n",
    "        record[\"category\"] = categorize_with_nlp(row[\"raw_text\"])\n",
    "        \n",
    "        results.append(record)\n",
    "    \n",
    "    return pd.DataFrame(results)"
   ]
  },
  {
   "cell_type": "code",
   "execution_count": 8,
   "id": "75fec4c2-f7e2-40fe-82f8-9475b05ae13c",
   "metadata": {},
   "outputs": [],
   "source": [
    "from spacy.pipeline import EntityRuler\n",
    "\n",
    "\n",
    "# Initialize entity ruler PROPERLY\n",
    "ruler = nlp.add_pipe(\"entity_ruler\", before=\"ner\")  # Key change here\n",
    "\n",
    "patterns = [\n",
    "    # Indian Vendors\n",
    "    {\"label\": \"VENDOR\", \"pattern\": \"Zomato\"},\n",
    "    {\"label\": \"VENDOR\", \"pattern\": \"Swiggy\"},\n",
    "    {\"label\": \"VENDOR\", \"pattern\": \"IRCTC\"},\n",
    "    {\"label\": \"VENDOR\", \"pattern\": \"Amazon Pay\"},\n",
    "    {\"label\": \"VENDOR\", \"pattern\": \"Flipkart\"},\n",
    "    {\"label\": \"VENDOR\", \"pattern\": [{\"LOWER\": \"airtel\"}, {\"LOWER\": \"payments\"}]},\n",
    "    \n",
    "    # Date Formats (Indian conventions)\n",
    "    {\"label\": \"DATE\", \"pattern\": [{\"SHAPE\": \"dd\"}, {\"ORTH\": \"-\"}, {\"SHAPE\": \"mm\"}, {\"ORTH\": \"-\"}, {\"SHAPE\": \"yyyy\"}]},\n",
    "    {\"label\": \"DATE\", \"pattern\": [{\"SHAPE\": \"dd\"}, {\"ORTH\": \"/\"}, {\"SHAPE\": \"mm\"}, {\"ORTH\": \"/\"}, {\"SHAPE\": \"yyyy\"}]},\n",
    "    {\"label\": \"DATE\", \"pattern\": [{\"TEXT\": {\"REGEX\": \"^(\\d{1,2})(th|st|nd|rd)?\\s(Jan|Feb|Mar|Apr|May|Jun|Jul|Aug|Sep|Oct|Nov|Dec)[a-z]*\\s\\d{4}$\"}}]},\n",
    "    \n",
    "    # Indian Currency\n",
    "    {\"label\": \"MONEY\", \"pattern\": [{\"ORTH\": \"₹\"}, {\"SHAPE\": \"d,ddd.dd\"}]},\n",
    "    {\"label\": \"MONEY\", \"pattern\": [{\"ORTH\": \"Rs.\"}, {\"SHAPE\": \"d,ddd.dd\"}]},\n",
    "    \n",
    "    # Invoice/Receipt IDs\n",
    "    {\"label\": \"REF_NO\", \"pattern\": [{\"ORTH\": \"#\"}, {\"SHAPE\": \"XXXXXX\"}]},\n",
    "    {\"label\": \"REF_NO\", \"pattern\": [{\"TEXT\": {\"REGEX\": \"^[A-Z]{2}\\d{6}$\"}}]}  # E.g., \"IN123456\"\n",
    "]\n",
    "\n",
    "ruler.add_patterns(patterns)\n",
    "\n"
   ]
  },
  {
   "cell_type": "code",
   "execution_count": 9,
   "id": "1071281b-f106-4f37-9d1e-971b33711822",
   "metadata": {},
   "outputs": [],
   "source": [
    "# Load OCR output\n",
    "df_ocr = pd.read_csv(\"../data/processed/ocr_results.csv\")\n",
    "df_processed = process_ocr_results(df_ocr)"
   ]
  },
  {
   "cell_type": "code",
   "execution_count": 11,
   "id": "6b768008-92d1-4f72-b9bd-52da1cb10519",
   "metadata": {},
   "outputs": [],
   "source": [
    "# Save NLP-processed data\n",
    "df_processed.to_csv(\"../data/processed/nlp_processed.csv\", index=False)"
   ]
  },
  {
   "cell_type": "code",
   "execution_count": null,
   "id": "2db68042-7ee7-4454-93fd-927798b70a3f",
   "metadata": {},
   "outputs": [],
   "source": []
  }
 ],
 "metadata": {
  "kernelspec": {
   "display_name": "Python 3 (ipykernel)",
   "language": "python",
   "name": "python3"
  },
  "language_info": {
   "codemirror_mode": {
    "name": "ipython",
    "version": 3
   },
   "file_extension": ".py",
   "mimetype": "text/x-python",
   "name": "python",
   "nbconvert_exporter": "python",
   "pygments_lexer": "ipython3",
   "version": "3.11.9"
  }
 },
 "nbformat": 4,
 "nbformat_minor": 5
}
